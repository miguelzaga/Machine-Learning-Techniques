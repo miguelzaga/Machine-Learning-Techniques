{
  "nbformat": 4,
  "nbformat_minor": 0,
  "metadata": {
    "colab": {
      "provenance": [],
      "include_colab_link": true
    },
    "kernelspec": {
      "display_name": "Python 3",
      "name": "python3"
    }
  },
  "cells": [
    {
      "cell_type": "markdown",
      "metadata": {
        "id": "view-in-github",
        "colab_type": "text"
      },
      "source": [
        "<a href=\"https://colab.research.google.com/github/hectormelo/Machine-Learning-Techniques/blob/main/Taller_1/Taller_1.ipynb\" target=\"_parent\"><img src=\"https://colab.research.google.com/assets/colab-badge.svg\" alt=\"Open In Colab\"/></a>"
      ]
    },
    {
      "cell_type": "markdown",
      "metadata": {
        "id": "Q7ffxRZZbhIP"
      },
      "source": [
        "\n",
        "<img src=\"https://bloqueneon.uniandes.edu.co/content/enforced/248650-202410_ISIS4219_01/Laboratorios.png\" ><br>\n",
        "# Machine Learning Techniques - ISIS4219\n",
        "\n",
        "Primer Semestre - 2024\n",
        "\n",
        "\n"
      ]
    },
    {
      "cell_type": "markdown",
      "metadata": {
        "id": "j79las3xZgA1"
      },
      "source": [
        "## Integrantes\n",
        "\n",
        "*   Integrante 1.\n",
        "*   Integrante 2.\n",
        "\n"
      ]
    },
    {
      "cell_type": "markdown",
      "metadata": {
        "id": "lAZL78yfcqCn"
      },
      "source": [
        "## **Problema**\n",
        "\n",
        "Las enfermedades cardiovasculares son la principal causa de muerte en el mundo, y se calcula que cobran 17,9 millones de vidas al año (OMS). La enfermedad de las arterias coronarias es el tipo más común de enfermedad cardíaca y se produce debido a las obstrucciones (placa) desarrolladas en el interior de las arterias coronarias (vasos sanguíneos que alimentan los músculos del corazón). Los cardiólogos utilizan diversas técnicas de imagen y mediciones invasivas de la presión arterial para examinar y controlar la gravedad de dichas obstrucciones. <br>\n",
        "Los factores de riesgo conductuales más importantes de estas enfermedades son una dieta poco saludable, la inactividad física, el consumo de tabaco y el uso nocivo del alcohol. Los efectos de los factores de riesgo pueden manifestarse en las personas en forma de aumento de la presión arterial, aumento de la glucosa en sangre, aumento de los lípidos en sangre y sobrepeso y obesidad.\n",
        "Identificar a las personas con mayor riesgo de sufrir enfermedades cardiovasculares y garantizar que reciban el tratamiento adecuado puede evitar muertes prematuras. Con este objetivo en mente, se quiere utilizar las técnicas de machine learning para construir un modelo que permita predecir qué pacientes pueden estar en riesgo de padecer este tipo de cardiopatía.<br><br>\n",
        "Referencias. <br>\n",
        "\n",
        "\n",
        "\n",
        "OMS (s.f.). “Cardiovascular diseases”. https://www.who.int/health-topics/cardiovascular-diseases#tab=tab_1\n",
        "<br><br>\n",
        "**Fuente de Datos**: https://www.kaggle.com/agsam23/coronary-artery-disease/version/3\n"
      ]
    },
    {
      "cell_type": "markdown",
      "source": [
        "**1. Procesamiento y entendimiento de los datos.**\n",
        "\n",
        "Explore el conjunto de datos proporcionado y prepárelos para el entrenamiento y validación. Dado que este conjunto de datos no incluye un grupo de test, es necesario realizar una división entre entrenamiento y test. Utilice la función train_test_split de sklearn.model_selection para llevar a cabo esta tarea.\n",
        "\n",
        "¿Que particularidades presentan los datos y qué técnicas de preprocesamiento se pueden aplicar?\n",
        "\n"
      ],
      "metadata": {
        "id": "EFnxJu_tFCxS"
      }
    },
    {
      "cell_type": "markdown",
      "source": [
        "**2.  Limpieza y preparación de datos**\n",
        "\n",
        "Realizar el proceso de limpieza de datos con el fin de asegurar que los datos estén libres de errores, valores nulos, valores atípicos y formatos inconsistentes."
      ],
      "metadata": {
        "id": "f6H2sHBwF_MN"
      }
    },
    {
      "cell_type": "markdown",
      "source": [
        "**3. Modelamiento**\n",
        "\n",
        "El proceso de modelado se refiere a la etapa en la que se construyen y entrenan modelos de machine learning para realizar predicciones o tomar decisiones basadas en datos. En este paso es importante realizar la Selección de Hiperparámetros con el fin de optimizar el modelo."
      ],
      "metadata": {
        "id": "EZjGxpFlb8XK"
      }
    },
    {
      "cell_type": "markdown",
      "source": [
        "**4. Predicción**\n",
        "\n",
        "Una vez realizado el entrenamiento del modelo es necesario realizar una predicción con los datos de prueba, que servira como insumo para la evaluación y/o validación de la calidad del modelo."
      ],
      "metadata": {
        "id": "z_njZSC8cSNT"
      }
    },
    {
      "cell_type": "code",
      "metadata": {
        "id": "iD0BUGaSkRrP"
      },
      "source": [],
      "execution_count": null,
      "outputs": []
    }
  ]
}