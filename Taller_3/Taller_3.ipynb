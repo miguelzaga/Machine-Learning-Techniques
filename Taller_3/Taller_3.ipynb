{
  "cells": [
    {
      "cell_type": "markdown",
      "metadata": {
        "id": "yF3pUagPpBXi"
      },
      "source": [
        "\n",
        "<img src=\"https://raw.githubusercontent.com/hectormelo/Machine-Learning-Techniques/main/Banner.png\" ><br>\n",
        "# Machine Learning Techniques - MISIS4219\n",
        "\n",
        "Primer semestre - 2024"
      ]
    },
    {
      "cell_type": "markdown",
      "metadata": {
        "id": "OY2QiXcochkr"
      },
      "source": [
        "- **Integrante 1: Julian Mora**\n",
        "- **Integrante 2: Miguel Zapata**"
      ]
    },
    {
      "cell_type": "markdown",
      "metadata": {
        "id": "mGTZhaDaKFw9"
      },
      "source": [
        "Uno de los fenómenos más grandes que se presentan hoy en día son las opiniones de los usuarios sobre diferentes temas a través de Internet. Esta opinión es muy valiosa ya que permite saber en tiempo real y de primera mano los sentimientos que tienen las personas sobre un producto o servicio.\n",
        "\n",
        "Es por ello, que una cadena hotelera en Andalucía ha decidido extraer la información de las opiniones de sus usuarios que han publicado en internet. Con el fin de poder entender cuáles son las ideas principales de los usuarios acerca de sus servicios, qué aspectos resaltan ellos sobre su servicios y, lo más importante, saber en qué pueden mejorar. Además, con este banco de datos esperan poder entrenar un modelo que les permita automáticamente determinar el sentimiento del usuario basado en las nuevas opiniones que puedan dejar.\n",
        "\n",
        "Para poder tomar decisiones en este estudio, se debe presentar:\n",
        "\n",
        "* Un análisis de las palabras más importantes en cada una de las categorías que le den relevancia a la cadena hotelera.\n",
        "\n",
        "* Un proceso de limpieza y transformación de datos idóneo para el entrenamiento de los algoritmos.\n",
        "\n",
        "* Una tabla comparativa, mostrando el rendimiento los dos mejores modelos entrenados con Naïve Bayes y KNN.\n",
        "\n",
        "* A partir de la tabla comparativa, ¿cuál modelo ofrece el mejor rendimiento sobre el conjunto test? ¿Qué interpretación puedes darles a los valores obtenidos sobre las métricas de rendimiento?\n",
        "\n",
        "\n",
        "**Datos**: Big_AHR.csv"
      ]
    },
    {
      "cell_type": "markdown",
      "metadata": {
        "id": "rwzeC0Vy5P_M"
      },
      "source": [
        "## Diccionario de Datos"
      ]
    },
    {
      "cell_type": "markdown",
      "metadata": {
        "id": "ySadEGhm5SYh"
      },
      "source": [
        "Se dan a disposición 13330 reviews de los usuarios los caules están compuestos de la siguiente forma:\n",
        "\n",
        "* **Review’s title**: Título del review dado por el usuario.\n",
        "* **5-scale rating**: Calificación del usuario. Escala de 1 a 5.\n",
        "* **Text**: Review del usuario.\n",
        "* **City_Region**: Región donde pertenece el hotel.\n",
        "* **Hotel’s name**: Nombre del hotel evaluado.\n",
        "* **Binary sentiment label** Clasificación sentimental. Donde 0 es Negativo, 1 es Positivo y 3 es Neutral."
      ]
    },
    {
      "cell_type": "markdown",
      "metadata": {},
      "source": [
        "### Librerías e importación de datos"
      ]
    },
    {
      "cell_type": "code",
      "execution_count": null,
      "metadata": {},
      "outputs": [],
      "source": [
        "# Importar librerias\n",
        "import pandas as pd\n",
        "import matplotlib.pyplot as plt\n",
        "import seaborn as sns\n",
        "\n",
        "# Preprocesamiento de textos\n",
        "import nltk\n",
        "from nltk.tokenize import word_tokenize\n",
        "from nltk.corpus import stopwords\n",
        "from nltk.stem import SnowballStemmer\n",
        "from sklearn.base import BaseEstimator, TransformerMixin\n",
        "from sklearn.pipeline import Pipeline\n",
        "import string\n",
        "\n",
        "nltk.download('punkt')\n",
        "nltk.download('stopwords')"
      ]
    },
    {
      "cell_type": "code",
      "execution_count": 2,
      "metadata": {},
      "outputs": [],
      "source": [
        "# Importar datos\n",
        "reviews = pd.read_csv('Big_AHR.csv', index_col=0)"
      ]
    },
    {
      "cell_type": "markdown",
      "metadata": {},
      "source": [
        "### Exploración Inicial"
      ]
    },
    {
      "cell_type": "code",
      "execution_count": 3,
      "metadata": {},
      "outputs": [
        {
          "name": "stdout",
          "output_type": "stream",
          "text": [
            "<class 'pandas.core.frame.DataFrame'>\n",
            "Index: 18172 entries, 0 to 18171\n",
            "Data columns (total 6 columns):\n",
            " #   Column       Non-Null Count  Dtype \n",
            "---  ------       --------------  ----- \n",
            " 0   title        18172 non-null  object\n",
            " 1   rating       18172 non-null  int64 \n",
            " 2   review_text  18172 non-null  object\n",
            " 3   location     16356 non-null  object\n",
            " 4   hotel        16356 non-null  object\n",
            " 5   label        18172 non-null  int64 \n",
            "dtypes: int64(2), object(4)\n",
            "memory usage: 993.8+ KB\n",
            "None\n",
            "title             0\n",
            "rating            0\n",
            "review_text       0\n",
            "location       1816\n",
            "hotel          1816\n",
            "label             0\n",
            "dtype: int64\n"
          ]
        },
        {
          "data": {
            "text/html": [
              "<div>\n",
              "<style scoped>\n",
              "    .dataframe tbody tr th:only-of-type {\n",
              "        vertical-align: middle;\n",
              "    }\n",
              "\n",
              "    .dataframe tbody tr th {\n",
              "        vertical-align: top;\n",
              "    }\n",
              "\n",
              "    .dataframe thead th {\n",
              "        text-align: right;\n",
              "    }\n",
              "</style>\n",
              "<table border=\"1\" class=\"dataframe\">\n",
              "  <thead>\n",
              "    <tr style=\"text-align: right;\">\n",
              "      <th></th>\n",
              "      <th>title</th>\n",
              "      <th>rating</th>\n",
              "      <th>review_text</th>\n",
              "      <th>location</th>\n",
              "      <th>hotel</th>\n",
              "      <th>label</th>\n",
              "    </tr>\n",
              "  </thead>\n",
              "  <tbody>\n",
              "    <tr>\n",
              "      <th>0</th>\n",
              "      <td>Excelente y personal amable</td>\n",
              "      <td>5</td>\n",
              "      <td>Un hotel muy bueno.  El personal fue muy amabl...</td>\n",
              "      <td>Seville_Province_of_Seville_Andalucia</td>\n",
              "      <td>H10_Casa_de_la_Plata</td>\n",
              "      <td>1</td>\n",
              "    </tr>\n",
              "    <tr>\n",
              "      <th>1</th>\n",
              "      <td>Céntrico</td>\n",
              "      <td>4</td>\n",
              "      <td>Muy buen hotel al nivel de lo esperado, habita...</td>\n",
              "      <td>Seville_Province_of_Seville_Andalucia</td>\n",
              "      <td>H10_Casa_de_la_Plata</td>\n",
              "      <td>1</td>\n",
              "    </tr>\n",
              "    <tr>\n",
              "      <th>2</th>\n",
              "      <td>Hotel excepcional</td>\n",
              "      <td>5</td>\n",
              "      <td>Magnífico hotel. La verdad es que todo perfect...</td>\n",
              "      <td>Seville_Province_of_Seville_Andalucia</td>\n",
              "      <td>H10_Casa_de_la_Plata</td>\n",
              "      <td>1</td>\n",
              "    </tr>\n",
              "    <tr>\n",
              "      <th>3</th>\n",
              "      <td>WOW!!</td>\n",
              "      <td>5</td>\n",
              "      <td>Hotel hermoso, buen diseño, original, limpio. ...</td>\n",
              "      <td>Seville_Province_of_Seville_Andalucia</td>\n",
              "      <td>H10_Casa_de_la_Plata</td>\n",
              "      <td>1</td>\n",
              "    </tr>\n",
              "    <tr>\n",
              "      <th>4</th>\n",
              "      <td>Magnifico</td>\n",
              "      <td>5</td>\n",
              "      <td>Magnífica ubicación en pleno centro de Sevilla...</td>\n",
              "      <td>Seville_Province_of_Seville_Andalucia</td>\n",
              "      <td>H10_Casa_de_la_Plata</td>\n",
              "      <td>1</td>\n",
              "    </tr>\n",
              "  </tbody>\n",
              "</table>\n",
              "</div>"
            ],
            "text/plain": [
              "                         title  rating  \\\n",
              "0  Excelente y personal amable       5   \n",
              "1                     Céntrico       4   \n",
              "2            Hotel excepcional       5   \n",
              "3                        WOW!!       5   \n",
              "4                    Magnifico       5   \n",
              "\n",
              "                                         review_text  \\\n",
              "0  Un hotel muy bueno.  El personal fue muy amabl...   \n",
              "1  Muy buen hotel al nivel de lo esperado, habita...   \n",
              "2  Magnífico hotel. La verdad es que todo perfect...   \n",
              "3  Hotel hermoso, buen diseño, original, limpio. ...   \n",
              "4  Magnífica ubicación en pleno centro de Sevilla...   \n",
              "\n",
              "                                location                 hotel  label  \n",
              "0  Seville_Province_of_Seville_Andalucia  H10_Casa_de_la_Plata      1  \n",
              "1  Seville_Province_of_Seville_Andalucia  H10_Casa_de_la_Plata      1  \n",
              "2  Seville_Province_of_Seville_Andalucia  H10_Casa_de_la_Plata      1  \n",
              "3  Seville_Province_of_Seville_Andalucia  H10_Casa_de_la_Plata      1  \n",
              "4  Seville_Province_of_Seville_Andalucia  H10_Casa_de_la_Plata      1  "
            ]
          },
          "execution_count": 3,
          "metadata": {},
          "output_type": "execute_result"
        }
      ],
      "source": [
        "# Tipos de datos y NAs\n",
        "print(reviews.info())\n",
        "print(reviews.isna().sum())\n",
        "reviews.head()"
      ]
    },
    {
      "cell_type": "code",
      "execution_count": 4,
      "metadata": {},
      "outputs": [
        {
          "data": {
            "image/png": "[encoded data removed]",
            "text/plain": [
              "<Figure size 640x480 with 1 Axes>"
            ]
          },
          "metadata": {},
          "output_type": "display_data"
        }
      ],
      "source": [
        "# Visualización de la variable objetivo\n",
        "fig, ax = plt.subplots()\n",
        "sns.countplot(data=reviews, x='label')\n",
        "ax.set_xticks(ticks=[0, 1, 2], labels=['Negativo', 'Positivo', 'Neutral'])\n",
        "plt.show()"
      ]
    },
    {
      "cell_type": "markdown",
      "metadata": {},
      "source": [
        "Se ve un imbalance en la variable objetivo. No vemos necesario técnicas de remuestreo (undersampling o oversampling) porque los modelos que vamos a usar (Naive Bayes, KNN y GradientBoosting) son relativamente robustos a imbalances."
      ]
    },
    {
      "cell_type": "markdown",
      "metadata": {},
      "source": [
        "### Limpieza y transformación\n",
        "Vamos a unir las variables 'title' y 'review_text'. También vamos a quitar 'rating', 'location' y 'hotel'. Haciendo un énfasis exclusivo en las reseñas de los usuarios. (Para el objetivo de negocio no vemos relevante incluir la ubicación y el hotel. El rating lo removemos porque puede quitar poder explicativo al análisis de lenguaje)"
      ]
    },
    {
      "cell_type": "code",
      "execution_count": 5,
      "metadata": {},
      "outputs": [
        {
          "data": {
            "text/html": [
              "<div>\n",
              "<style scoped>\n",
              "    .dataframe tbody tr th:only-of-type {\n",
              "        vertical-align: middle;\n",
              "    }\n",
              "\n",
              "    .dataframe tbody tr th {\n",
              "        vertical-align: top;\n",
              "    }\n",
              "\n",
              "    .dataframe thead th {\n",
              "        text-align: right;\n",
              "    }\n",
              "</style>\n",
              "<table border=\"1\" class=\"dataframe\">\n",
              "  <thead>\n",
              "    <tr style=\"text-align: right;\">\n",
              "      <th></th>\n",
              "      <th>text</th>\n",
              "      <th>label</th>\n",
              "    </tr>\n",
              "  </thead>\n",
              "  <tbody>\n",
              "    <tr>\n",
              "      <th>0</th>\n",
              "      <td>Excelente y personal amable Un hotel muy bueno...</td>\n",
              "      <td>1</td>\n",
              "    </tr>\n",
              "    <tr>\n",
              "      <th>1</th>\n",
              "      <td>Céntrico Muy buen hotel al nivel de lo esperad...</td>\n",
              "      <td>1</td>\n",
              "    </tr>\n",
              "    <tr>\n",
              "      <th>2</th>\n",
              "      <td>Hotel excepcional Magnífico hotel. La verdad e...</td>\n",
              "      <td>1</td>\n",
              "    </tr>\n",
              "    <tr>\n",
              "      <th>3</th>\n",
              "      <td>WOW!! Hotel hermoso, buen diseño, original, li...</td>\n",
              "      <td>1</td>\n",
              "    </tr>\n",
              "    <tr>\n",
              "      <th>4</th>\n",
              "      <td>Magnifico Magnífica ubicación en pleno centro ...</td>\n",
              "      <td>1</td>\n",
              "    </tr>\n",
              "  </tbody>\n",
              "</table>\n",
              "</div>"
            ],
            "text/plain": [
              "                                                text  label\n",
              "0  Excelente y personal amable Un hotel muy bueno...      1\n",
              "1  Céntrico Muy buen hotel al nivel de lo esperad...      1\n",
              "2  Hotel excepcional Magnífico hotel. La verdad e...      1\n",
              "3  WOW!! Hotel hermoso, buen diseño, original, li...      1\n",
              "4  Magnifico Magnífica ubicación en pleno centro ...      1"
            ]
          },
          "execution_count": 5,
          "metadata": {},
          "output_type": "execute_result"
        }
      ],
      "source": [
        "# Seleccionar carácteristicas\n",
        "reviews['text'] = reviews['title'] + ' ' + reviews['review_text']\n",
        "reviews.drop(columns=['rating', 'location', 'hotel'])\n",
        "reviews = reviews[['text', 'label']]\n",
        "reviews.head()"
      ]
    },
    {
      "cell_type": "code",
      "execution_count": 6,
      "metadata": {},
      "outputs": [
        {
          "data": {
            "text/plain": [
              "['excelent personal amabl hotel buen personal amabl profesional gust desayun habit comod limpi volv proxim vez sevill segur recom ubic cerc centr',\n",
              " 'centric buen hotel nivel esper habit junior suit grand deseabl estanci confort trat personal agrad ubic buen hac turism sup centric igual desayun estupend',\n",
              " 'hotel excepcional magnif hotel verd perfect habit ampli actual equip amabl eficient desayun magnif pati precios part cerc mejor 4 estrell urban',\n",
              " 'wow hotel hermos buen diseñ original limpi servici excelent buen ubic just enfrent carrefour express rod tiend pizz esquin estan buenisim sup recomend',\n",
              " 'magnif magnif ubic plen centr sevill recorr ciud camin habit perfect gran cam diseñ tipic estil actualiz desayun complet buen lug unic felic hotel repet']"
            ]
          },
          "execution_count": 6,
          "metadata": {},
          "output_type": "execute_result"
        }
      ],
      "source": [
        "# Preprocesamiento de textos\n",
        "stop_words = set(stopwords.words('spanish'))\n",
        "punctuation = set(string.punctuation)\n",
        "stemmer = SnowballStemmer('spanish')\n",
        "\n",
        "def preprocess_text(text):\n",
        "    tokens = word_tokenize(text.lower()) # Pasar texto a mínuscula y tokenizar\n",
        "    tokens = [word for word in tokens if word not in stop_words and word not in punctuation] # Filtrar stopwords y puntuación\n",
        "    tokens_stemmed = [stemmer.stem(word) for word in tokens] # Stemming\n",
        "    return ' '.join(tokens_stemmed)\n",
        "\n",
        "class TextProcessing(BaseEstimator, TransformerMixin):\n",
        "    def __init__(self):\n",
        "        pass\n",
        "\n",
        "    def fit(self, X, y=None):\n",
        "        return self\n",
        "    \n",
        "    def transform(self, X):\n",
        "        return [preprocess_text(text) for text in X]\n",
        "\n",
        "pipeline = Pipeline([('preprocessing', TextProcessing())])\n",
        "    \n",
        "pipeline.transform(reviews['text'][0:5])"
      ]
    }
  ],
  "metadata": {
    "colab": {
      "include_colab_link": true,
      "provenance": []
    },
    "kernelspec": {
      "display_name": "Python 3",
      "name": "python3"
    },
    "language_info": {
      "codemirror_mode": {
        "name": "ipython",
        "version": 3
      },
      "file_extension": ".py",
      "mimetype": "text/x-python",
      "name": "python",
      "nbconvert_exporter": "python",
      "pygments_lexer": "ipython3",
      "version": "3.10.12"
    }
  },
  "nbformat": 4,
  "nbformat_minor": 0
}
