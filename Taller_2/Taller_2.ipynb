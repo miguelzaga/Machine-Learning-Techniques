{
  "cells": [
    {
      "cell_type": "markdown",
      "metadata": {
        "id": "view-in-github",
        "colab_type": "text"
      },
      "source": [
        "<a href=\"https://colab.research.google.com/github/hectormelo/Machine-Learning-Techniques/blob/main/Taller_2/Taller_2.ipynb\" target=\"_parent\"><img src=\"https://colab.research.google.com/assets/colab-badge.svg\" alt=\"Open In Colab\"/></a>"
      ]
    },
    {
      "cell_type": "markdown",
      "metadata": {
        "id": "SU_lch1DySrJ"
      },
      "source": [
        "<img src=\"https://raw.githubusercontent.com/hectormelo/Machine-Learning-Techniques/main/Banner.png\" ><br>\n",
        "# Machine Learning Techniques - MISIS4219\n",
        "\n",
        "Primer semestre - 2024\n"
      ]
    },
    {
      "cell_type": "markdown",
      "metadata": {
        "id": "5UbZ1aWajfMi"
      },
      "source": [
        "\n",
        "# **Taller 2**\n",
        "\n",
        "GeoAlpes, una empresa líder en análisis geoespacial, está buscando mejorar sus técnicas de clasificación automática de imágenes satelitales. El objetivo es poder categorizar distintas características geográficas (como bosques, zonas industriales, zonas de cultivos permanentes, zonas residenciales y rios) con alta precisión y rapidez. Para lograrlo, están interesados en explorar las capacidades de los métodos ensemble.\n",
        "\n",
        "1.  Exploración y Preparación de Datos\n",
        "\n",
        "    -   Discuta las particularidades de las imágenes satelitales y sugiera técnicas extra de preprocesamiento de ser necesario.\n",
        "\n",
        "2.  Implementación de Gradient Boosting\n",
        "\n",
        "    -   Utilice Gradient Boosting como modelo base. Discuta las ventajas y desafíos de este método, y cómo afecta la precisión y robustez del clasificador. Además, compare el desempeño de Gradient Boosting con el modelo Random Forest presentado en la práctica, ¿logra observar mejoras significativas?\n",
        "\n",
        "3. Implementación de un nuevo metodo Ensemble\n",
        "    - Elija y presente un método ensemble de su preferencia.Introduzca y discuta el concepto del método elegido y cómo podría ser benéfico para la clasificación de imágenes satelitales.\n",
        "    - Compare el desempeño de su método elegido con Gradient Boosting y el modelo Random Forest. Discuta las ventajas y desventajas de cada uno.\n",
        "\n",
        "4.  Optimización y Ajuste\n",
        "\n",
        "    -   Realice una búsqueda de los mejores hiperparámetros para mejorar el desempeño de cada uno de los modelos implementados (Grid Search).\n",
        "\n",
        "Datos: [Enlace al sub conjunto del dataset de imágenes satelitales EuroSAT](https://github.com/hectormelo/Machine-Learning-Techniques/raw/main/Lab_2/EuroSAT3.zip)\n"
      ]
    }
  ],
  "metadata": {
    "colab": {
      "provenance": [],
      "include_colab_link": true
    },
    "kernelspec": {
      "display_name": "Python 3",
      "name": "python3"
    },
    "language_info": {
      "name": "python"
    }
  },
  "nbformat": 4,
  "nbformat_minor": 0
}